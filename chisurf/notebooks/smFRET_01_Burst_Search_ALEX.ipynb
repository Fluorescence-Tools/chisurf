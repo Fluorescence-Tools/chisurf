{
 "cells": [
  {
   "cell_type": "code",
   "execution_count": 2,
   "id": "7b60452b41c09f37",
   "metadata": {
    "ExecuteTime": {
     "end_time": "2024-12-16T15:43:07.901031Z",
     "start_time": "2024-12-16T15:43:07.895678Z"
    }
   },
   "outputs": [],
   "source": [
    "%matplotlib inline\n",
    "\n",
    "import warnings\n",
    "warnings.filterwarnings('ignore')\n",
    "\n",
    "from typing import List, Tuple\n",
    "from collections import OrderedDict\n",
    "\n",
    "import tqdm\n",
    "import pathlib\n",
    "import numpy as np\n",
    "import numba as nb\n",
    "import pandas as pd\n",
    "import pylab as plt\n",
    "\n",
    "import tttrlib"
   ]
  },
  {
   "cell_type": "code",
   "execution_count": 3,
   "id": "c596f29f-add5-4b66-a26b-bdc6a53a7cd6",
   "metadata": {
    "ExecuteTime": {
     "end_time": "2024-12-16T15:43:07.922379Z",
     "start_time": "2024-12-16T15:43:07.911881Z"
    }
   },
   "outputs": [],
   "source": [
    "def make_2d_plot(\n",
    "    x, y, \n",
    "    range_x,\n",
    "    range_y,\n",
    "    paris_folder: pathlib.Path,\n",
    "    xlabel: str = \"x\", \n",
    "    ylabel: str = \"y\",\n",
    "    bins_x: int = 100,\n",
    "    bins_y: int = 100,\n",
    "    log_x: bool = False,\n",
    "    log_y: bool = False\n",
    "): \n",
    "    # Define logarithmic bins if required\n",
    "    if log_x:\n",
    "        bins_x = np.logspace(np.log10(range_x[0]), np.log10(range_x[1]), bins_x)\n",
    "    else:\n",
    "        bins_x = np.linspace(range_x[0], range_x[1], bins_x)\n",
    "        \n",
    "    if log_y:\n",
    "        bins_y = np.logspace(np.log10(range_y[0]), np.log10(range_y[1]), bins_y)\n",
    "    else:\n",
    "        bins_y = np.linspace(range_y[0], range_y[1], bins_y)\n",
    "    \n",
    "    # 1. Define function for 2D histogram (e.g., for SPIE vs EFRET)\n",
    "    def scatter_hist(x, y, ax, ax_histx, ax_histy):\n",
    "        # Labels of the marginal distribution\n",
    "        ax_histx.tick_params(axis=\"x\", labelbottom=False)\n",
    "        ax_histy.tick_params(axis=\"y\", labelleft=False)\n",
    "        \n",
    "        # 2D histogram with optional log scaling\n",
    "        hist2D = ax.hist2d(x, y, bins=[bins_x, bins_y], cmap='Greys', density=False)\n",
    "        \n",
    "        # Marginal distributions\n",
    "        xhist = ax_histx.hist(x, bins=bins_x, color=\"dimgrey\")\n",
    "        yhist = ax_histy.hist(y, bins=bins_y, color=\"darkorange\", orientation='horizontal')\n",
    "    \n",
    "        return hist2D, xhist, yhist\n",
    "    \n",
    "    # 2. Define a grid\n",
    "    left, width = 0.1, 0.65\n",
    "    bottom, height = 0.1, 0.65\n",
    "    rect_scatter = [left, bottom, width, height]\n",
    "    rect_histx = [left, bottom + height, width, 0.2]\n",
    "    rect_histy = [left + width, bottom, 0.2, height]\n",
    "    \n",
    "    # 3. Plot the results\n",
    "    fig = plt.figure(figsize=(8, 8))\n",
    "\n",
    "    ax = fig.add_axes(rect_scatter)\n",
    "    ax.set_xlabel(xlabel, fontsize=16,  fontweight='bold')\n",
    "    ax.set_ylabel(ylabel, fontsize=16,  fontweight='bold')\n",
    "    ax_histx = fig.add_axes(rect_histx, sharex=ax)\n",
    "    ax_histy = fig.add_axes(rect_histy, sharey=ax)\n",
    "\n",
    "    # Apply log scaling to the axes if required\n",
    "    if log_x:\n",
    "        ax.set_xscale(\"log\")\n",
    "        ax_histx.set_xscale(\"log\")\n",
    "    if log_y:\n",
    "        ax.set_yscale(\"log\")\n",
    "        ax_histy.set_yscale(\"log\")\n",
    "\n",
    "    # Set font sizes for tick labels\n",
    "    for label in (ax.get_xticklabels() + ax.get_yticklabels() + ax_histx.get_yticklabels() + ax_histy.get_xticklabels()):\n",
    "        label.set_fontsize(14)\n",
    "\n",
    "    # 4. Plot and save plot\n",
    "    filename = paris_folder.as_posix() + \"/\"\n",
    "    xy2D, x_1D, y_1D = scatter_hist(x, y, ax, ax_histx, ax_histy)\n",
    "    \n",
    "    plt.savefig(filename + '2D_' + xlabel + '-' + ylabel + '.png')\n",
    "    plt.show()\n",
    "    plt.close()\n"
   ]
  },
  {
   "cell_type": "code",
   "execution_count": 4,
   "id": "a708c4c0-2295-4beb-9a2f-1a1489c92bc9",
   "metadata": {
    "ExecuteTime": {
     "end_time": "2024-12-16T15:43:08.220570Z",
     "start_time": "2024-12-16T15:43:08.209350Z"
    }
   },
   "outputs": [],
   "source": [
    "@nb.jit(nopython=True)\n",
    "def get_indices_in_ranges(rout, mt, chs, micro_time_ranges):\n",
    "    # Create a boolean mask for the rout values in chs\n",
    "    rout_mask = np.zeros(rout.shape, dtype=np.bool_)\n",
    "    for ch in chs:\n",
    "        rout_mask |= (rout == ch)\n",
    "\n",
    "    # Create a boolean mask for the mt values in micro_time_ranges\n",
    "    mt_mask = np.zeros(mt.shape, dtype=np.bool_)\n",
    "    for start, end in micro_time_ranges:\n",
    "        mt_mask |= (mt >= start) & (mt <= end)\n",
    "\n",
    "    # Get indices where both masks are true\n",
    "    indices = np.where(rout_mask & mt_mask)[0]\n",
    "\n",
    "    return indices"
   ]
  },
  {
   "cell_type": "code",
   "execution_count": 5,
   "id": "10eab4cd-67cc-492e-a53e-c6151cc7a578",
   "metadata": {
    "ExecuteTime": {
     "end_time": "2024-12-16T15:43:08.240011Z",
     "start_time": "2024-12-16T15:43:08.235029Z"
    }
   },
   "outputs": [],
   "source": [
    "def find_bursts(arr, max_gap=0):\n",
    "    \"\"\"\n",
    "    Identifies sequences (bursts) of consecutive ones in a binary array and optionally merges small gaps between them.\n",
    "\n",
    "    The function detects where the array changes from 0 to 1 (indicating the start of a burst) and 1 to 0\n",
    "    (indicating the end of a burst). If `max_gap` is greater than 0, gaps smaller than or equal to `max_gap`\n",
    "    between consecutive bursts are merged.\n",
    "\n",
    "    Parameters:\n",
    "    arr (numpy array): A binary array (containing 0s and 1s) where the function will identify bursts of ones.\n",
    "    max_gap (int, optional): The maximum gap size between bursts that can be merged. Default is 0 (no merging).\n",
    "\n",
    "    Returns:\n",
    "    numpy array: A 2D array where each row contains the start and end indices (inclusive) of each burst.\n",
    "\n",
    "    Example:\n",
    "    --------\n",
    "    >>> arr = np.array([0, 1, 1, 0, 0, 1, 1, 1, 0])\n",
    "    >>> find_bursts(arr)\n",
    "    array([[1, 2],\n",
    "           [5, 7]])\n",
    "\n",
    "    >>> find_bursts(arr, max_gap=1)\n",
    "    array([[1, 7]])\n",
    "    \"\"\"\n",
    "    # Find where the array changes from 0 to 1 (start of burst) and 1 to 0 (end of burst)\n",
    "    is_burst = np.diff(arr, prepend=0, append=0)\n",
    "    starts = np.where(is_burst == 1)[0]\n",
    "    stops = np.where(is_burst == -1)[0]\n",
    "\n",
    "    # If max_gap is greater than 0, merge small gaps\n",
    "    if max_gap > 0:\n",
    "        merged_starts = [starts[0]]  # Initialize with the first start\n",
    "        merged_stops = []\n",
    "\n",
    "        for i in range(1, len(starts)):\n",
    "            # Check if the gap between current stop and next start is small enough to merge\n",
    "            if starts[i] - stops[i - 1] - 1 <= max_gap:\n",
    "                continue  # Skip this start, effectively merging\n",
    "            else:\n",
    "                merged_stops.append(stops[i - 1])\n",
    "                merged_starts.append(starts[i])\n",
    "\n",
    "        # Append the final stop\n",
    "        merged_stops.append(stops[-1])\n",
    "\n",
    "        # Convert merged lists to NumPy arrays\n",
    "        starts = np.array(merged_starts)\n",
    "        stops = np.array(merged_stops)\n",
    "\n",
    "    # Stack the starts and stops into a 2D array\n",
    "    bursts = np.column_stack((starts, stops - 1))  # stop is exclusive, so subtract 1\n",
    "\n",
    "    return bursts"
   ]
  },
  {
   "cell_type": "code",
   "execution_count": 6,
   "id": "d98040a4-4e3f-4180-8d9f-25601f55ceb5",
   "metadata": {
    "ExecuteTime": {
     "end_time": "2024-12-16T15:43:08.277538Z",
     "start_time": "2024-12-16T15:43:08.271960Z"
    }
   },
   "outputs": [],
   "source": [
    "@nb.jit(nopython=True)\n",
    "def create_array_with_ones(start_stop_pairs, length):\n",
    "    arr = np.zeros(length, dtype=np.uint8)  # Create an array of zeros with the specified length\n",
    "    for start, stop in start_stop_pairs:\n",
    "        arr[start:stop] = 1  # Set values between start and stop to one\n",
    "    return arr"
   ]
  },
  {
   "cell_type": "code",
   "execution_count": 7,
   "id": "a7a3f23a-bc35-492e-8b80-3a295fe68f59",
   "metadata": {
    "ExecuteTime": {
     "end_time": "2024-12-16T15:43:08.310810Z",
     "start_time": "2024-12-16T15:43:08.299176Z"
    }
   },
   "outputs": [],
   "source": [
    "def select_photons(\n",
    "    tttr: tttrlib.TTTR, \n",
    "    chs: List[int], \n",
    "    dT_max: float,\n",
    "    microtime_ranges: List[Tuple[int, int]],\n",
    "    filter_options: dict = None,\n",
    "    used_filter: str = 'burstwise',\n",
    "    min_ph: int = 10,\n",
    "    ph_window: int = 10,\n",
    "    tw: float = 5\n",
    "):\n",
    "    \n",
    "    mT = tttr.macro_times\n",
    "    dT = np.diff(mT, prepend=mT[0])\n",
    "    s = np.ones_like(dT, dtype=bool)\n",
    "\n",
    "    if chs:\n",
    "        mask = tttrlib.TTTRMask()\n",
    "        mask.select_channels(tttr, chs, mask=True)\n",
    "        m = mask.get_mask()\n",
    "        s = np.logical_and(s, m)\n",
    "\n",
    "    if microtime_ranges:\n",
    "        mask = tttrlib.TTTRMask()\n",
    "        mask.select_microtime_ranges(tttr, microtime_ranges)\n",
    "        mask.flip()\n",
    "        m = mask.get_mask()\n",
    "        s = np.logical_and(s, m)\n",
    "    \n",
    "    # header = tttr.header\n",
    "    # res = header.macro_time_resolution\n",
    "    # if isinstance(dT_max, float):\n",
    "    #     dT_max = int(dT_max / (1000. * res))\n",
    "    #     s = np.logical_and(s, dT <= dT_max)\n",
    "\n",
    "    start_stop = np.array(tttr.burst_search(min_ph, ph_window, tw / 1000.0))\n",
    "    start_stop = start_stop.reshape((len(start_stop) // 2, 2))\n",
    "    n = len(tttr)\n",
    "    sel = create_array_with_ones(start_stop, n)\n",
    "    s = np.logical_and(s, sel)\n",
    "\n",
    "    return s.astype(dtype=np.uint8)"
   ]
  },
  {
   "cell_type": "code",
   "execution_count": 8,
   "id": "5a40b58e-3c99-469a-8f3e-c8b7562b99e0",
   "metadata": {
    "ExecuteTime": {
     "end_time": "2024-12-16T15:43:08.328120Z",
     "start_time": "2024-12-16T15:43:08.320029Z"
    }
   },
   "outputs": [],
   "source": [
    "def write_bur_file(bur_filename, start_stop, filename, tttr, windows, detectors):\n",
    "    # Initialize a list to store each row of summary data\n",
    "    summary_data = []\n",
    "\n",
    "    # Read the TTTR file\n",
    "    res = tttr.header.macro_time_resolution\n",
    "\n",
    "    # Iterate through the list of (start, stop) tuples\n",
    "    for start_index, stop_index in start_stop:\n",
    "        burst = tttr[start_index:stop_index]\n",
    "        mt = burst.micro_times\n",
    "        mT = burst.macro_times\n",
    "        rout = burst.routing_channel\n",
    "\n",
    "        duration = (mT[-1] - mT[0]) * res\n",
    "        mean_macro_time = (mT[-1] + mT[0]) / 2.0 * res\n",
    "        n_photons = len(mT)\n",
    "        count_rate = n_photons / duration\n",
    "\n",
    "        # Create the initial OrderedDict\n",
    "        row_data = OrderedDict([\n",
    "            (\"First Photon\", start_index),\n",
    "            (\"Last Photon\", stop_index),\n",
    "            (\"Duration (ms)\", duration * 1000.0),\n",
    "            (\"Mean Macro Time (ms)\", mean_macro_time * 1000.0),\n",
    "            (\"Number of Photons\", n_photons),\n",
    "            (\"Count Rate (KHz)\", count_rate / 1000.0),\n",
    "            (\"First File\", filename),\n",
    "            (\"Last File\", filename),\n",
    "        ])\n",
    "        \n",
    "        for window in windows:\n",
    "            r_start, r_stop = windows[window]\n",
    "            micro_time_ranges = np.array([windows[window]])\n",
    "            for det in detectors:\n",
    "                # Create selection mask\n",
    "                chs = np.array(detectors[det])\n",
    "\n",
    "                # Signal in Detector\n",
    "                idx = get_indices_in_ranges(rout, mt, chs, micro_time_ranges)\n",
    "                nbr_ph_color = len(idx)\n",
    "                \n",
    "                if nbr_ph_color == 0:\n",
    "                    first, last = -1, -1\n",
    "                    duration_color = -1\n",
    "                    mean_macro_time_color = -1\n",
    "                    count_rate_color = -1\n",
    "                else:\n",
    "                    first, last = idx[0], idx[-1]\n",
    "                    nbr_ph_color = len(idx)\n",
    "                    duration_color = (mT[idx[-1]] - mT[idx[0]]) * res * 1000.0\n",
    "                    mean_macro_time_color = (mT[last] + mT[first]) / 2.0 * res  * 1000.0\n",
    "                    count_rate_color = nbr_ph_color / duration_color\n",
    "\n",
    "                # Signal in Window\n",
    "                idx_window = get_indices_in_ranges(rout, mt, chs, micro_time_ranges)\n",
    "                nbr_ph_window = len(idx_window)\n",
    "                count_rate_window = -1.0\n",
    "                if nbr_ph_window > 0:\n",
    "                    nbr_ph_window = len(idx_window)\n",
    "                    duration_window = (mT[idx_window[-1]] - mT[idx_window[0]]) * res * 1000.0\n",
    "                    count_rate_window = nbr_ph_window / duration_window\n",
    "\n",
    "                # Create the update dict as an OrderedDict\n",
    "                row_data[f\"First Photon ({det})\"] = first + start_index\n",
    "                row_data[f\"Last Photon ({det})\"] = last + start_index\n",
    "                row_data[f\"Duration ({det}) (ms)\"] = duration_color\n",
    "                row_data[f\"Mean Macrotime ({det}) (ms)\"] = mean_macro_time_color\n",
    "                row_data[f\"Number of Photons ({det})\"] = nbr_ph_color\n",
    "                row_data[f\"{det}\".capitalize() + \" Count Rate (KHz)\"] = count_rate_color\n",
    "                row_data[f'S {window} {det} (kHz)'] = count_rate_window\n",
    "\n",
    "        summary_data.append(row_data)  # Add the row data to the summary list\n",
    "\n",
    "    summary_df = pd.DataFrame(summary_data)\n",
    "    \n",
    "    return summary_df"
   ]
  },
  {
   "cell_type": "markdown",
   "id": "508bf18f-2d50-46d0-8fea-fda705a5a98a",
   "metadata": {},
   "source": [
    "# Inputs"
   ]
  },
  {
   "cell_type": "code",
   "execution_count": 19,
   "id": "3b0d91ba32060f06",
   "metadata": {
    "ExecuteTime": {
     "end_time": "2024-12-16T18:07:49.607720Z",
     "start_time": "2024-12-16T18:07:49.573705Z"
    }
   },
   "outputs": [
    {
     "data": {
      "text/plain": [
       "([PosixPath('/Users/tpeulen/Downloads/Brick-Mic/DNA_Alexa488-ATTO543-300sec/test80basic_300sec_0.h5'),\n",
       "  PosixPath('/Users/tpeulen/Downloads/Brick-Mic/DNA_Alexa488-ATTO543-300sec/test80basic_300sec_2.h5')],\n",
       " '*.h5')"
      ]
     },
     "execution_count": 19,
     "metadata": {},
     "output_type": "execute_result"
    }
   ],
   "source": [
    "file_path = '/Users/tpeulen/Downloads/Brick-Mic/DNA_Alexa488-ATTO543-300sec'\n",
    "tttr_file_type = None     # 'SPC-130', 'PTU', 'SM', etc., None guesses format\n",
    "file_type_ending = '*.h5' # Used to read all files of certain type in file path\n",
    "\n",
    "# Routing channels used for burst selection. If None uses all channels. To specify channels provide list, e.g. [0, 8, 1, 9]\n",
    "channels = None\n",
    "\n",
    "# Macro time threshold for burst selection (in milliseconds)\n",
    "dT_max = 0.20\n",
    "\n",
    "# Minimum number of photons in burst\n",
    "min_ph = 60\n",
    "\n",
    "# Window for count rate computation, numer of photons\n",
    "ph_window = 5\n",
    "\n",
    "# If > 0 fills small gaps in bursts\n",
    "max_gap = 3\n",
    "\n",
    "# Initial PIE/Alex-Windows and Detectors\n",
    "pie_windows = {\n",
    "    \"prompt\": (0, 4000),\n",
    "    \"delayed\": (4000, 8000)\n",
    "}\n",
    "\n",
    "# Color definition\n",
    "detectors = {\n",
    "    \"green\": [0],\n",
    "    \"red\": [1],\n",
    "    \"yellow\": [1]\n",
    "}\n",
    "file_path = pathlib.Path(file_path)\n",
    "files = list(file_path.glob(file_type_ending))\n",
    "files, file_type_ending"
   ]
  },
  {
   "cell_type": "code",
   "execution_count": 20,
   "id": "75d5938638f2b284",
   "metadata": {
    "ExecuteTime": {
     "end_time": "2024-12-16T18:07:50.912032Z",
     "start_time": "2024-12-16T18:07:50.644199Z"
    }
   },
   "outputs": [],
   "source": [
    "tttr = tttrlib.TTTR(files[0])"
   ]
  },
  {
   "cell_type": "code",
   "execution_count": 21,
   "id": "a806296a4f7dd6f5",
   "metadata": {
    "ExecuteTime": {
     "end_time": "2024-12-16T18:07:55.307425Z",
     "start_time": "2024-12-16T18:07:55.275744Z"
    }
   },
   "outputs": [
    {
     "name": "stdout",
     "output_type": "stream",
     "text": [
      "{\n",
      " \"MeasDesc_ContainerType\": 5,\n",
      " \"MeasDesc_RecordType\": -1,\n",
      " \"tags\": [\n",
      "  {\n",
      "   \"idx\": 0,\n",
      "   \"name\": \"setup.detection_wavelengths\",\n",
      "   \"type\": 536870920,\n",
      "   \"value\": 5.8e-07\n",
      "  },\n",
      "  {\n",
      "   \"idx\": 1,\n",
      "   \"name\": \"setup.detection_wavelengths\",\n",
      "   \"type\": 536870920,\n",
      "   \"value\": 6.4e-07\n",
      "  },\n",
      "  {\n",
      "   \"idx\": 0,\n",
      "   \"name\": \"setup.excitation_alternated\",\n",
      "   \"type\": 268435464,\n",
      "   \"value\": 0\n",
      "  },\n",
      "  {\n",
      "   \"idx\": 0,\n",
      "   \"name\": \"setup.excitation_cw\",\n",
      "   \"type\": 268435464,\n",
      "   \"value\": 1\n",
      "  },\n",
      "  {\n",
      "   \"idx\": 0,\n",
      "   \"name\": \"setup.excitation_wavelengths\",\n",
      "   \"type\": 536870920,\n",
      "   \"value\": 5.32e-07\n",
      "  },\n",
      "  {\n",
      "   \"idx\": 0,\n",
      "   \"name\": \"setup.lifetime\",\n",
      "   \"type\": 268435464,\n",
      "   \"value\": 0\n",
      "  },\n",
      "  {\n",
      "   \"idx\": 0,\n",
      "   \"name\": \"setup.modulated_excitation\",\n",
      "   \"type\": 268435464,\n",
      "   \"value\": 0\n",
      "  },\n",
      "  {\n",
      "   \"idx\": 0,\n",
      "   \"name\": \"setup.num_pixels\",\n",
      "   \"type\": 268435464,\n",
      "   \"value\": 2\n",
      "  },\n",
      "  {\n",
      "   \"idx\": 0,\n",
      "   \"name\": \"setup.num_polarization_ch\",\n",
      "   \"type\": 268435464,\n",
      "   \"value\": 1\n",
      "  },\n",
      "  {\n",
      "   \"idx\": 0,\n",
      "   \"name\": \"setup.num_spectral_ch\",\n",
      "   \"type\": 268435464,\n",
      "   \"value\": 2\n",
      "  },\n",
      "  {\n",
      "   \"idx\": 0,\n",
      "   \"name\": \"setup.num_split_ch\",\n",
      "   \"type\": 268435464,\n",
      "   \"value\": 1\n",
      "  },\n",
      "  {\n",
      "   \"idx\": 0,\n",
      "   \"name\": \"setup.num_spots\",\n",
      "   \"type\": 268435464,\n",
      "   \"value\": 1\n",
      "  },\n",
      "  {\n",
      "   \"idx\": 0,\n",
      "   \"name\": \"identity.author\",\n",
      "   \"type\": 1073872895,\n",
      "   \"value\": \"Gabriel Moya, Philipp Klocke\"\n",
      "  },\n",
      "  {\n",
      "   \"idx\": 0,\n",
      "   \"name\": \"identity.author_affiliation\",\n",
      "   \"type\": 1073872895,\n",
      "   \"value\": \"LMU PSB Group\"\n",
      "  },\n",
      "  {\n",
      "   \"idx\": 0,\n",
      "   \"name\": \"identity.creation_time\",\n",
      "   \"type\": 1073872895,\n",
      "   \"value\": \"2024-10-31 19:53:45\"\n",
      "  },\n",
      "  {\n",
      "   \"idx\": 0,\n",
      "   \"name\": \"identity.filename\",\n",
      "   \"type\": 1073872895,\n",
      "   \"value\": \"test80basic_300sec_0.h5\"\n",
      "  },\n",
      "  {\n",
      "   \"idx\": 0,\n",
      "   \"name\": \"identity.filename_full\",\n",
      "   \"type\": 1073872895,\n",
      "   \"value\": \"C:\\\\Users\\\\di76doj\\\\Desktop\\\\BM Acquisition v0.2\\\\test80basic_300sec_20241031-194054\\\\test80basic_300sec_0.h5\"\n",
      "  },\n",
      "  {\n",
      "   \"idx\": 0,\n",
      "   \"name\": \"identity.format_name\",\n",
      "   \"type\": 1073872895,\n",
      "   \"value\": \"Photon-HDF5\"\n",
      "  },\n",
      "  {\n",
      "   \"idx\": 0,\n",
      "   \"name\": \"identity.format_url\",\n",
      "   \"type\": 1073872895,\n",
      "   \"value\": \"http://photon-hdf5.org/\"\n",
      "  },\n",
      "  {\n",
      "   \"idx\": 0,\n",
      "   \"name\": \"identity.format_version\",\n",
      "   \"type\": 1073872895,\n",
      "   \"value\": \"0.5rc1\"\n",
      "  },\n",
      "  {\n",
      "   \"idx\": 0,\n",
      "   \"name\": \"identity.software\",\n",
      "   \"type\": 1073872895,\n",
      "   \"value\": \"phconvert\"\n",
      "  },\n",
      "  {\n",
      "   \"idx\": 0,\n",
      "   \"name\": \"identity.software_version\",\n",
      "   \"type\": 1073872895,\n",
      "   \"value\": \"0.9.1\"\n",
      "  },\n",
      "  {\n",
      "   \"idx\": 0,\n",
      "   \"name\": \"timestamps_specs.timestamps_unit\",\n",
      "   \"type\": 536870920,\n",
      "   \"value\": 1e-06\n",
      "  },\n",
      "  {\n",
      "   \"idx\": -1,\n",
      "   \"name\": \"MeasDesc_GlobalResolution\",\n",
      "   \"type\": 536870920,\n",
      "   \"value\": 1e-06\n",
      "  }\n",
      " ]\n",
      "}\n"
     ]
    }
   ],
   "source": [
    "print(tttr.header.json)"
   ]
  },
  {
   "cell_type": "code",
   "execution_count": 23,
   "id": "d006a66e-613a-46af-a883-3c82ea32e119",
   "metadata": {
    "ExecuteTime": {
     "end_time": "2024-12-16T18:08:41.698666Z",
     "start_time": "2024-12-16T18:08:41.016738Z"
    }
   },
   "outputs": [
    {
     "data": {
      "image/png": "[encoded data removed]",
      "text/plain": [
       "<Figure size 640x480 with 1 Axes>"
      ]
     },
     "metadata": {},
     "output_type": "display_data"
    }
   ],
   "source": [
    "# Assign macro times to micro times\n",
    "alex_period = 8000 # Alex period in macro time clocks\n",
    "tttr.alex_to_microtime(alex_period)\n",
    "\n",
    "mt_bin_count = np.bincount(tttr.micro_times)\n",
    "plt.plot(mt_bin_count)\n",
    "plt.show()"
   ]
  },
  {
   "cell_type": "markdown",
   "id": "3970503d-2997-4784-82f3-6b9192dcc235",
   "metadata": {},
   "source": [
    "# Select bursts in tttr files"
   ]
  },
  {
   "cell_type": "code",
   "execution_count": 24,
   "id": "fd169a21-ddc3-4960-8ce2-9261cbebc9e1",
   "metadata": {
    "ExecuteTime": {
     "end_time": "2024-12-16T18:09:01.937053Z",
     "start_time": "2024-12-16T18:08:59.484196Z"
    }
   },
   "outputs": [
    {
     "data": {
      "text/plain": [
       "[<matplotlib.lines.Line2D at 0x17deb2aa0>]"
      ]
     },
     "execution_count": 24,
     "metadata": {},
     "output_type": "execute_result"
    },
    {
     "data": {
      "image/png": "[encoded data removed]",
      "text/plain": [
       "<Figure size 640x480 with 1 Axes>"
      ]
     },
     "metadata": {},
     "output_type": "display_data"
    }
   ],
   "source": [
    "burst_mt_range = [(0, 8000)]\n",
    "\n",
    "filter_options = {\n",
    "    'min_ph': min_ph,\n",
    "    'ph_window': ph_window,\n",
    "    'tw': dT_max\n",
    "}\n",
    "\n",
    "s = select_photons(tttr, channels, dT_max, burst_mt_range, **filter_options)\n",
    "plt.plot(s)"
   ]
  },
  {
   "cell_type": "code",
   "execution_count": 25,
   "id": "2167329b-9dff-4738-8210-e9a2ae787981",
   "metadata": {
    "ExecuteTime": {
     "end_time": "2024-12-16T18:09:11.412313Z",
     "start_time": "2024-12-16T18:09:06.394605Z"
    }
   },
   "outputs": [
    {
     "name": "stderr",
     "output_type": "stream",
     "text": [
      "  0%|          | 0/2 [00:00<?, ?it/s]"
     ]
    },
    {
     "name": "stdout",
     "output_type": "stream",
     "text": [
      "/Users/tpeulen/Downloads/Brick-Mic/DNA_Alexa488-ATTO543-300sec/test80basic_300sec_0.h5\n"
     ]
    },
    {
     "name": "stderr",
     "output_type": "stream",
     "text": [
      " 50%|█████     | 1/2 [00:02<00:02,  2.35s/it]"
     ]
    },
    {
     "name": "stdout",
     "output_type": "stream",
     "text": [
      "/Users/tpeulen/Downloads/Brick-Mic/DNA_Alexa488-ATTO543-300sec/test80basic_300sec_2.h5\n"
     ]
    },
    {
     "name": "stderr",
     "output_type": "stream",
     "text": [
      "100%|██████████| 2/2 [00:04<00:00,  2.33s/it]\n"
     ]
    }
   ],
   "source": [
    "if channels:\n",
    "    paris_path = pathlib.Path('burstwise' + \"_\" +  \"-\".join([str(x) for x in channels]) + f\" {dT_max:.4f}#{min_ph}\")\n",
    "else:\n",
    "    paris_path = pathlib.Path('burstwise' + \"_\" +  \"All\" + f\" {dT_max:.4f}#{min_ph}\")    \n",
    "bur_path = file_path / paris_path / 'bur'\n",
    "bur_path.mkdir(exist_ok=True, parents=True)\n",
    "files_df = list()\n",
    "for filename in tqdm.tqdm(files):\n",
    "    print(filename)\n",
    "    tttr = tttrlib.TTTR(filename.as_posix()) #, tttr_file_type)\n",
    "    tttr.alex_to_microtime(8000)\n",
    "    s = select_photons(tttr, channels, dT_max, burst_mt_range, **filter_options)\n",
    "    start_stop = find_bursts(s, max_gap)\n",
    "    bur_filename = bur_path / pathlib.Path(filename.stem + \".bur\")\n",
    "    df = write_bur_file(bur_filename, start_stop, filename.name, tttr, pie_windows, detectors)\n",
    "    files_df.append(df)\n",
    "df = pd.concat(files_df)\n",
    "df.to_csv(bur_filename, sep='\\t', index=False)"
   ]
  },
  {
   "cell_type": "code",
   "execution_count": 26,
   "id": "cffb2f2b4bc3629f",
   "metadata": {
    "ExecuteTime": {
     "end_time": "2024-12-16T18:09:14.992066Z",
     "start_time": "2024-12-16T18:09:13.531872Z"
    }
   },
   "outputs": [
    {
     "data": {
      "text/plain": [
       "[<matplotlib.lines.Line2D at 0x17de8e380>]"
      ]
     },
     "execution_count": 26,
     "metadata": {},
     "output_type": "execute_result"
    },
    {
     "data": {
      "image/png": "[encoded data removed]",
      "text/plain": [
       "<Figure size 640x480 with 1 Axes>"
      ]
     },
     "metadata": {},
     "output_type": "display_data"
    }
   ],
   "source": [
    "is_burst = np.diff(s, prepend=0, append=0)\n",
    "plt.plot(s)"
   ]
  },
  {
   "cell_type": "code",
   "execution_count": 27,
   "id": "d47b4f2ca0aa2bf8",
   "metadata": {
    "ExecuteTime": {
     "end_time": "2024-12-16T18:09:22.780684Z",
     "start_time": "2024-12-16T18:09:18.618989Z"
    }
   },
   "outputs": [
    {
     "data": {
      "text/plain": [
       "PosixPath('/Users/tpeulen/Downloads/Brick-Mic/DNA_Alexa488-ATTO543-300sec/test80basic_300sec_2.h5')"
      ]
     },
     "execution_count": 27,
     "metadata": {},
     "output_type": "execute_result"
    },
    {
     "data": {
      "image/png": "[encoded data removed]",
      "text/plain": [
       "<Figure size 640x480 with 1 Axes>"
      ]
     },
     "metadata": {},
     "output_type": "display_data"
    }
   ],
   "source": [
    "plt.plot(select_photons(tttr, channels, dT_max, burst_mt_range, **filter_options))\n",
    "filename"
   ]
  },
  {
   "cell_type": "code",
   "execution_count": 28,
   "id": "6aebc719ce22de8d",
   "metadata": {
    "ExecuteTime": {
     "end_time": "2024-12-16T18:09:23.778946Z",
     "start_time": "2024-12-16T18:09:23.699418Z"
    }
   },
   "outputs": [
    {
     "data": {
      "text/plain": [
       "array([ 103,  119,  129, ..., 7878, 7982, 7986], dtype=uint16)"
      ]
     },
     "execution_count": 28,
     "metadata": {},
     "output_type": "execute_result"
    }
   ],
   "source": [
    "tttr.get_macro_times()\n",
    "tttr.get_micro_times()"
   ]
  },
  {
   "cell_type": "code",
   "execution_count": 29,
   "id": "908cd18194d80a3c",
   "metadata": {
    "ExecuteTime": {
     "end_time": "2024-12-16T18:09:24.976384Z",
     "start_time": "2024-12-16T18:09:24.928006Z"
    }
   },
   "outputs": [
    {
     "data": {
      "text/plain": [
       "array([0, 0, 0, ..., 0, 0, 0], dtype=uint8)"
      ]
     },
     "execution_count": 29,
     "metadata": {},
     "output_type": "execute_result"
    }
   ],
   "source": [
    "start_stop = find_bursts(s, max_gap)\n",
    "s"
   ]
  },
  {
   "cell_type": "markdown",
   "id": "0a7e3c2e-8f2e-4eea-bd7b-f9cd3cfbfcee",
   "metadata": {},
   "source": [
    "# Control plot"
   ]
  },
  {
   "cell_type": "code",
   "execution_count": 17,
   "id": "b489a155-7f2c-4295-acd6-ff70d61718b6",
   "metadata": {
    "ExecuteTime": {
     "end_time": "2024-12-16T15:43:23.567328Z",
     "start_time": "2024-12-16T15:43:22.582533Z"
    }
   },
   "outputs": [
    {
     "data": {
      "image/png": "[encoded data removed]",
      "text/plain": [
       "<Figure size 800x800 with 3 Axes>"
      ]
     },
     "metadata": {},
     "output_type": "display_data"
    }
   ],
   "source": [
    "# Plot green/red count rate histogram\n",
    "# Select parameter of interest & define axis range\n",
    "x = df[\"Green Count Rate (KHz)\"]\n",
    "y = df[\"Red Count Rate (KHz)\"]\n",
    "\n",
    "xlabel = \"Green Count Rate (kHz)\"\n",
    "ylabel = \"Red Count Rate (kHz)\"\n",
    "range_x = [0.2, 200]\n",
    "range_y = [0.2, 200]\n",
    "\n",
    "make_2d_plot(\n",
    "    x, y, range_x, range_y,\n",
    "    file_path / paris_path,\n",
    "    xlabel, \n",
    "    ylabel,\n",
    "    bins_x = 41,\n",
    "    bins_y = 41,\n",
    "    log_x = True,\n",
    "    log_y = True\n",
    ")"
   ]
  },
  {
   "cell_type": "code",
   "execution_count": null,
   "id": "102e3a9f6046c8b8",
   "metadata": {
    "ExecuteTime": {
     "end_time": "2024-12-12T19:14:47.050990Z",
     "start_time": "2024-12-12T19:14:47.047635Z"
    }
   },
   "outputs": [],
   "source": []
  }
 ],
 "metadata": {
  "kernelspec": {
   "display_name": "Python 3 (ipykernel)",
   "language": "python",
   "name": "python3"
  },
  "language_info": {
   "codemirror_mode": {
    "name": "ipython",
    "version": 3
   },
   "file_extension": ".py",
   "mimetype": "text/x-python",
   "name": "python",
   "nbconvert_exporter": "python",
   "pygments_lexer": "ipython3",
   "version": "3.10.14"
  }
 },
 "nbformat": 4,
 "nbformat_minor": 5
}
