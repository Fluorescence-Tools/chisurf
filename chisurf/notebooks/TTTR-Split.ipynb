{
 "cells": [
  {
   "cell_type": "code",
   "execution_count": 2,
   "id": "initial_id",
   "metadata": {},
   "outputs": [],
   "source": [
    "import pathlib\n",
    "import tttrlib"
   ]
  },
  {
   "cell_type": "code",
   "execution_count": 3,
   "id": "270ccb54-2879-4cf7-8b8e-fdba01f18246",
   "metadata": {},
   "outputs": [],
   "source": [
    "path = pathlib.Path('/Users/tpeulen/Downloads/Brick-Mic/DNA_Alexa488-ATTO543-10sec/')"
   ]
  },
  {
   "cell_type": "code",
   "execution_count": 6,
   "id": "a9288680-55da-4df6-a377-f13674008720",
   "metadata": {},
   "outputs": [
    {
     "data": {
      "text/plain": [
       "[PosixPath('/Users/tpeulen/Downloads/Brick-Mic/DNA_Alexa488-ATTO543-10sec/test80basic_0.h5'),\n",
       " PosixPath('/Users/tpeulen/Downloads/Brick-Mic/DNA_Alexa488-ATTO543-10sec/test80basic_1.h5'),\n",
       " PosixPath('/Users/tpeulen/Downloads/Brick-Mic/DNA_Alexa488-ATTO543-10sec/test80basic_2.h5'),\n",
       " PosixPath('/Users/tpeulen/Downloads/Brick-Mic/DNA_Alexa488-ATTO543-10sec/test80basic_3.h5'),\n",
       " PosixPath('/Users/tpeulen/Downloads/Brick-Mic/DNA_Alexa488-ATTO543-10sec/test80basic_4.h5'),\n",
       " PosixPath('/Users/tpeulen/Downloads/Brick-Mic/DNA_Alexa488-ATTO543-10sec/test80basic_5.h5'),\n",
       " PosixPath('/Users/tpeulen/Downloads/Brick-Mic/DNA_Alexa488-ATTO543-10sec/test80basic_6.h5'),\n",
       " PosixPath('/Users/tpeulen/Downloads/Brick-Mic/DNA_Alexa488-ATTO543-10sec/test80basic_7.h5'),\n",
       " PosixPath('/Users/tpeulen/Downloads/Brick-Mic/DNA_Alexa488-ATTO543-10sec/test80basic_8.h5'),\n",
       " PosixPath('/Users/tpeulen/Downloads/Brick-Mic/DNA_Alexa488-ATTO543-10sec/test80basic_9.h5')]"
      ]
     },
     "execution_count": 6,
     "metadata": {},
     "output_type": "execute_result"
    }
   ],
   "source": [
    "fns = list(path.glob(\"*.h5\"))\n",
    "fns = sorted(fns)"
   ]
  },
  {
   "cell_type": "code",
   "execution_count": 8,
   "id": "0a9355bd-b703-4e30-af1c-8588f1f8c9ad",
   "metadata": {},
   "outputs": [
    {
     "data": {
      "text/plain": [
       "'/Users/tpeulen/Downloads/Brick-Mic/DNA_Alexa488-ATTO543-10sec/test80basic_0.h5'"
      ]
     },
     "execution_count": 8,
     "metadata": {},
     "output_type": "execute_result"
    }
   ],
   "source": [
    "fn = fns[0]\n"
   ]
  },
  {
   "cell_type": "code",
   "execution_count": 11,
   "id": "8bdaeeaa-26d2-4f74-a1aa-af4c4b665c98",
   "metadata": {},
   "outputs": [],
   "source": [
    "tttrs = [tttrlib.TTTR(fn.as_posix()) for fn in fns]\n",
    "tttr = tttrs[0]"
   ]
  },
  {
   "cell_type": "code",
   "execution_count": 13,
   "id": "d98cf15f-a751-4278-be91-9a566366c53d",
   "metadata": {},
   "outputs": [
    {
     "data": {
      "text/plain": [
       "array([     54,     414,     506, ..., 9999907, 9999973, 9999999],\n",
       "      dtype=uint64)"
      ]
     },
     "execution_count": 13,
     "metadata": {},
     "output_type": "execute_result"
    }
   ],
   "source": [
    "tttr.macro_times"
   ]
  },
  {
   "cell_type": "code",
   "execution_count": null,
   "id": "037fd4e0-43f9-4ca3-ace1-a4b0e1abeda0",
   "metadata": {},
   "outputs": [],
   "source": []
  }
 ],
 "metadata": {
  "kernelspec": {
   "display_name": "Python 3 (ipykernel)",
   "language": "python",
   "name": "python3"
  },
  "language_info": {
   "codemirror_mode": {
    "name": "ipython",
    "version": 3
   },
   "file_extension": ".py",
   "mimetype": "text/x-python",
   "name": "python",
   "nbconvert_exporter": "python",
   "pygments_lexer": "ipython3",
   "version": "3.10.14"
  }
 },
 "nbformat": 4,
 "nbformat_minor": 5
}
