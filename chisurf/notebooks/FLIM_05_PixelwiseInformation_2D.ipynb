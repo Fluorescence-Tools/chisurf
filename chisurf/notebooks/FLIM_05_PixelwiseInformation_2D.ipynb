{
 "cells": [
  {
   "cell_type": "markdown",
   "id": "8cb67745-1bfe-4251-94b4-8bffcfe18685",
   "metadata": {},
   "source": [
    "## Exporting pixel-wise fluorescence parameter to reconstruct MFIS-FRET 2D histograms\n",
    "\n",
    "In this script, we use the previously defined pixel classes of vesicle-like structure,\n",
    "cytoplasm and nucleus of the mGBP example data set. Based on these pixel classes, we export\n",
    "for each pixel mean donor fluorescence lifetime and fluorescence intensities (per color and\n",
    "timewindow (prompt - delay).\n",
    "Additionally, derived parameter, e.g. apparent FRET efficiency or effective Stoichiometry, are\n",
    "exported. \n",
    "To select for the pixel of interest, we use the generated binary masks of cytosol, VLS and nucleus.\n",
    "In these masks, all pixel outside the area of interest are 0, and all pixel inside the region of \n",
    "interest are 1. Thus, by multiplying the fluorescence images with the masks, the pixel inside the\n",
    "region of interest are selected. \n",
    "For comparison, we also export the same data from the non-segmented image. Here, we include all pixel \n",
    "with more then 20 photons in our analysis.\n",
    "\n",
    "Finally, we reshape the image from 256x256 pixel into a single column vector (65'536 x 1), where the \n",
    "rows are stacked beneath each other. These reshaped arrays are exported as raw text files and can\n",
    "be visualized as one- or twodimensional histograms e.g. using the matplotlib built-in functions or\n",
    "any calculation program.\n",
    "\n",
    "Please note, for simplicity reasons, we stacked here all frames and use averaged masks for\n",
    "pixel selection."
   ]
  },
  {
   "cell_type": "code",
   "execution_count": 20,
   "id": "1eeefbb2-229f-45b5-87f2-00c68d229026",
   "metadata": {},
   "outputs": [],
   "source": [
    "# Import all required libraries\n",
    "import numpy as np\n",
    "import matplotlib.pyplot as plt\n",
    "from skimage import io, img_as_ubyte\n",
    "from skimage.filters import threshold_otsu\n",
    "from matplotlib.ticker import IndexLocator"
   ]
  },
  {
   "cell_type": "markdown",
   "id": "608fc12c-0621-4d41-a74d-c6f0de232ef8",
   "metadata": {},
   "source": [
    "## Load the previously exported data"
   ]
  },
  {
   "cell_type": "code",
   "execution_count": 21,
   "id": "8c4916bc-4df8-47b0-b970-98c89f821f7c",
   "metadata": {},
   "outputs": [],
   "source": [
    "# Donor mean fluorescence lifetime - based on stacked frames\n",
    "mean_tau_green_img = \"./FLIM/mGBP_DA.ht3_mean tau green.tif\"\n",
    "mean_tau_green = io.imread(mean_tau_green_img)\n",
    "\n",
    "# Intensity images - split by color channel and timewindow (prompt & delay)\n",
    "green_intensity_img = \"./FLIM/mGBP_DA.ht3_green_SUM.tif\"\n",
    "green_intensity = io.imread(green_intensity_img)\n",
    "\n",
    "red_prompt_intensity_img = \"./FLIM/mGBP_DA.ht3_red_prompt_SUM.tif\"\n",
    "red_prompt_intensity = io.imread(red_prompt_intensity_img)\n",
    "\n",
    "red_delay_intensity_img = \"./FLIM/mGBP_DA.ht3_red_delay_SUM.tif\"\n",
    "red_delay_intensity = io.imread(red_delay_intensity_img)"
   ]
  },
  {
   "cell_type": "markdown",
   "id": "cb538133-f185-4ac3-97e0-a97ef3c198ef",
   "metadata": {},
   "source": [
    "## Generating a pseudo-mask for the whole image\n",
    "(Only pixels with at least 20 photons in total should be included in the analysis)"
   ]
  },
  {
   "cell_type": "code",
   "execution_count": 22,
   "id": "a10e3f52-c3f7-423a-83bc-dd38e093a0c6",
   "metadata": {},
   "outputs": [],
   "source": [
    "minimum_nr_photons = 20\n",
    "lines, pixel = mean_tau_green.shape  # Determine the image size\n",
    "# Calculate intensity sum\n",
    "sum_intensity = green_intensity + red_prompt_intensity + red_delay_intensity\n",
    "# Set all pixel to 0 where the intensity sum is <= 20, \n",
    "# all pixel above 20 are set to 1\n",
    "min_mask = np.where(sum_intensity >= minimum_nr_photons, 1, 0)"
   ]
  },
  {
   "cell_type": "markdown",
   "id": "506b7b8e-2f76-49f9-8aab-d684be535529",
   "metadata": {},
   "source": [
    "## Load the previously defined masks for cytoplasm, vesicles and nucleus"
   ]
  },
  {
   "cell_type": "code",
   "execution_count": 52,
   "id": "d5fe8b1a-5667-4b76-be95-392f1548960a",
   "metadata": {},
   "outputs": [],
   "source": [
    "# Note that for cytoplasm and vesicles a mask was generated per image frame, here we use for simplicity an average mask.\n",
    "\n",
    "cytoplasm_file = \"./FLIM/mGBP_DA.ht3_sum.tif_wo nucleus_vesicles.tif\"\n",
    "cytoplasm_mask = img_as_ubyte(io.imread(cytoplasm_file))\n",
    "\n",
    "cytoplasm_avg = np.array(np.sum(cytoplasm_mask, axis=0), dtype=int)\n",
    "thresh_cyto = threshold_otsu(cytoplasm_mask) # Apply Otsu thresholding\n",
    "cytoplasm_avg_mask = cytoplasm_avg > thresh_cyto\n",
    "\n",
    "VLS_file = \"./FLIM/mGBP_DA.ht3_sum.tif_binary_vesicles.tif\"\n",
    "VLS_mask = img_as_ubyte(io.imread(vesicles_file))\n",
    "\n",
    "VLS_avg = np.array(np.sum(VLS_mask, axis=0), dtype=int)\n",
    "thresh_VLS = threshold_otsu(VLS_avg) # Apply Otsu thresholding\n",
    "VLS_avg_mask = VLS_avg > thresh_VLS\n",
    "\n",
    "nucleus_avg_file = \"./FLIM/mGBP_DA.ht3_sum.tif_avg_nucleus.tif\"\n",
    "nucleus_avg_mask = img_as_ubyte(io.imread(nucleus_avg_file))"
   ]
  },
  {
   "cell_type": "markdown",
   "id": "bb7122c9-01f3-4e4b-995c-d8e0d1a7040f",
   "metadata": {},
   "source": [
    "## Calculation of the derived parameter"
   ]
  },
  {
   "cell_type": "code",
   "execution_count": 53,
   "id": "9b79543e-7671-47c7-befa-793377127a18",
   "metadata": {},
   "outputs": [
    {
     "name": "stderr",
     "output_type": "stream",
     "text": [
      "/tmp/ipykernel_2620977/581684700.py:5: RuntimeWarning: invalid value encountered in divide\n",
      "  Spie = (nA_FRET + nD) / (nA_FRET + nD + nA_direct)\n",
      "/tmp/ipykernel_2620977/581684700.py:13: RuntimeWarning: invalid value encountered in divide\n",
      "  PR = nA_FRET / (nA_FRET + nD)\n"
     ]
    }
   ],
   "source": [
    "# effective Stoichiometry-PIE \n",
    "# ^^^^^^^^^^^^^^^^^^^^^^^^^^^^^^^^\n",
    "# Note: effective Spie as we omit all correction factors\n",
    "\n",
    "Spie = (nA_FRET + nD) / (nA_FRET + nD + nA_direct)\n",
    "\n",
    "# Proximity ratio\n",
    "# ^^^^^^^^^^^^^^^^^^^^^^^^^^^^^^^^\n",
    "# for correct FRET efficiency, a correction factor is required: gamma\n",
    "# gamma defines the ratio of the detector sensitivities\n",
    "# E = nA(FRET) /(nA(FRET) + gamma * nD)\n",
    "\n",
    "PR = nA_FRET / (nA_FRET + nD)"
   ]
  },
  {
   "cell_type": "markdown",
   "id": "ae63598b-6f80-4fba-87be-92e1bd28906c",
   "metadata": {},
   "source": [
    "## Generating a list of pixel coordinates"
   ]
  },
  {
   "cell_type": "code",
   "execution_count": 43,
   "id": "0bf56391-810f-43f0-9432-5b0ab7353c78",
   "metadata": {},
   "outputs": [],
   "source": [
    "pixel_id = np.indices((lines, pixel))\n",
    "pixel_id_1D = pixel_id.reshape((2, lines*pixel))\n",
    "Y_pixel = np.array(pixel_id_1D[0, :])\n",
    "X_pixel = pixel_id_1D[1, :]"
   ]
  },
  {
   "cell_type": "markdown",
   "id": "7a261703-d320-499e-9c33-cc63f2a9d56b",
   "metadata": {},
   "source": [
    "## Select the pixel of interest"
   ]
  },
  {
   "cell_type": "code",
   "execution_count": 58,
   "id": "525b0499-a46e-42ac-9284-9ed38f8179f9",
   "metadata": {},
   "outputs": [],
   "source": [
    "# here, each parameter is multiplied with the generated & selected mask\n",
    "\n",
    "#mask = min_mask\n",
    "#mask = cytoplasm_avg_mask\n",
    "#mask = VLS_avg_mask\n",
    "mask = nucleus_avg_mask\n",
    "\n",
    "tau_green = mean_tau_green * mask\n",
    "nD = green_intensity * mask\n",
    "nA_FRET = red_prompt_intensity * mask\n",
    "nA_direct = red_delay_intensity * mask"
   ]
  },
  {
   "cell_type": "markdown",
   "id": "828d45fa-ded2-4e44-a045-6d336de02796",
   "metadata": {},
   "source": [
    "## Reshaping the parameter matrices"
   ]
  },
  {
   "cell_type": "code",
   "execution_count": 59,
   "id": "95616776-d495-4319-9c87-a06477d69a91",
   "metadata": {},
   "outputs": [],
   "source": [
    "# all parameter are reshaped from 256 x 256 array -> 65'536 array\n",
    "tau_green_1D = tau_green.reshape((lines * pixel))\n",
    "nD_1D = nD.reshape((lines * pixel))\n",
    "nA_FRET_1D = nA_FRET.reshape((lines * pixel))\n",
    "nA_direct_1D = nA_direct.reshape((lines * pixel))\n",
    "Spie_1D = Spie.reshape((lines * pixel))\n",
    "PR_1D = PR.reshape((lines * pixel))"
   ]
  },
  {
   "cell_type": "markdown",
   "id": "2652fe6d-1794-4410-8dbe-19f4486c9367",
   "metadata": {},
   "source": [
    "## Plot the 2D histograms"
   ]
  },
  {
   "cell_type": "code",
   "execution_count": 71,
   "id": "c12fe2e3-5653-4beb-b11a-d35aa10fbfa1",
   "metadata": {},
   "outputs": [
    {
     "data": {
      "image/png": "[encoded data removed]",
      "text/plain": [
       "<Figure size 800x800 with 3 Axes>"
      ]
     },
     "metadata": {},
     "output_type": "display_data"
    }
   ],
   "source": [
    "x = PR_1D\n",
    "y = Spie_1D\n",
    "\n",
    "xlabel = \"Proximity ratio\"\n",
    "ylabel = \"effective $S_{PIE}$\"\n",
    "\n",
    "bins_x = 100\n",
    "bins_y = 100\n",
    "bins = (bins_x, bins_y)\n",
    "range_x = (1e-3, 1)  # Setting the minimum slightly above Zero excludes \n",
    "range_y = (1e-3, 1)  ## the zeros which are in the masked pixels\n",
    "\n",
    "# 3. Define a grid\n",
    "left, width = 0.1, 0.65\n",
    "bottom, height = 0.1, 0.65\n",
    "rect_scatter = [left, bottom, width, height]\n",
    "rect_histx = [left, bottom + height, width, 0.2]\n",
    "rect_histy = [left + width, bottom, 0.2, height]\n",
    "\n",
    "# 4. Define 2D histogram for SPIE vs EFRET\n",
    "def scatter_hist(x, y, ax, ax_histx, ax_histy):\n",
    "    # labels of the marginal distribution\n",
    "    ax_histx.tick_params(axis=\"x\", labelbottom=False)\n",
    "    ax_histy.tick_params(axis=\"y\", labelleft=False)\n",
    "    # the 2D histogram:\n",
    "    hist2D = ax.hist2d(x, y, bins=bins, range=((range_x), (range_y)), density=True, cmap='Greys')\n",
    "    # marginal distributions\n",
    "    xhist = ax_histx.hist(x, bins=bins_x, range=range_x, color=\"dimgrey\")\n",
    "    yhist = ax_histy.hist(y, bins=bins_y, range=range_y, color=\"darkorange\", orientation='horizontal')\n",
    "\n",
    "    return hist2D, xhist, yhist\n",
    "\n",
    "fig = plt.figure(figsize=(8, 8))\n",
    "\n",
    "ax = fig.add_axes(rect_scatter)\n",
    "ax.set_xlabel(xlabel, fontsize=20,  fontweight='bold')\n",
    "ax.set_ylabel(ylabel, fontsize=20,  fontweight='bold')\n",
    "ax_histx = fig.add_axes(rect_histx, sharex=ax)\n",
    "ax_histy = fig.add_axes(rect_histy, sharey=ax)\n",
    "for label in (ax.get_xticklabels() + ax.get_yticklabels() + ax_histx.get_yticklabels() + ax_histy.get_xticklabels()):\n",
    "\tlabel.set_fontsize(14)\n",
    "#ax_histx.yaxis.set_major_locator(IndexLocator(base=1000, offset=500))\n",
    "#ax_histy.xaxis.set_major_locator(IndexLocator(base=2000, offset=1000))\n",
    "\n",
    "# use the previously defined function\n",
    "xy2D, x_1D, y_1D = scatter_hist(x, y, ax, ax_histx, ax_histy)\n",
    "plt.show()"
   ]
  },
  {
   "cell_type": "markdown",
   "id": "fcae6641-e98e-412c-b0bb-a431145b3460",
   "metadata": {},
   "source": [
    "## Save the results"
   ]
  },
  {
   "cell_type": "code",
   "execution_count": 63,
   "id": "6a270864-0a44-410f-a0bc-81a8470a56b1",
   "metadata": {},
   "outputs": [],
   "source": [
    "# This files can be read by any text editor\n",
    "header = \"Y pixel\\tX pixel\\tMean Tau(green) \\tNumber of photons(green) \\tNumber of photons(red prompt) \\tNumber of photons(red delay) \\teff Stoichiometry(PIE) \\tProximity ratio\"\n",
    "\n",
    "# Saving directory\n",
    "output_filename = './FLIM/mGBP_DA_nucleus.txt'\n",
    "\n",
    "np.savetxt(\n",
    "    output_filename,\n",
    "    np.vstack([Y_pixel, X_pixel, tau_green_1D, nD_1D, nA_FRET_1D, nA_direct_1D, Spie_1D, PR_1D]).T,\n",
    "    delimiter='\\t',\n",
    "    header=header\n",
    "    )\n"
   ]
  }
 ],
 "metadata": {
  "kernelspec": {
   "display_name": "Python 3 (ipykernel)",
   "language": "python",
   "name": "python3"
  },
  "language_info": {
   "codemirror_mode": {
    "name": "ipython",
    "version": 3
   },
   "file_extension": ".py",
   "mimetype": "text/x-python",
   "name": "python",
   "nbconvert_exporter": "python",
   "pygments_lexer": "ipython3",
   "version": "3.9.15"
  }
 },
 "nbformat": 4,
 "nbformat_minor": 5
}
