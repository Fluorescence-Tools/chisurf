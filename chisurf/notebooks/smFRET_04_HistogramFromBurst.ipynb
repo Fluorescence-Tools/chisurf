{
 "cells": [
  {
   "cell_type": "code",
   "execution_count": 1,
   "id": "99b8a520-06aa-4a8d-9a2b-10eeb85ac9f4",
   "metadata": {},
   "outputs": [
    {
     "data": {
      "text/plain": [
       "'/srv/cui-bee/agheinze/DATA/externalSetups/FLIM_HHU/tttrlib/Colab'"
      ]
     },
     "execution_count": 1,
     "metadata": {},
     "output_type": "execute_result"
    }
   ],
   "source": [
    "%pwd"
   ]
  },
  {
   "cell_type": "code",
   "execution_count": 2,
   "id": "00f4df21-0b07-4b70-b352-39b7c432a0d6",
   "metadata": {},
   "outputs": [],
   "source": [
    "import tttrlib\n",
    "import pathlib\n",
    "import numpy as np\n",
    "import pandas as pd\n",
    "import pylab as plt"
   ]
  },
  {
   "cell_type": "code",
   "execution_count": 16,
   "id": "25667f9e-2da2-495e-8acf-9b6c927b0839",
   "metadata": {},
   "outputs": [],
   "source": [
    "burst_file = './SingleMolecule/int_tau.csv' # CSV file containing the burst selection\n",
    "\n",
    "data_path = './SingleMolecule/LP-344-525+7.5uM-UP-344-525_2' # Folder containing the measurement data\n",
    "channels = [0, 8] # Replace with the specific channel you want to analyze\n",
    "\n",
    "# Define binning (e.g., set 64 bins) and specify the target channel\n",
    "binning = 4  # Adjust as needed\n",
    "file_type = 'SPC-130'\n",
    "\n",
    "output_fn = './SingleMolecule/decay_lf.txt'"
   ]
  },
  {
   "cell_type": "code",
   "execution_count": 17,
   "id": "745db492-adb0-4d0a-bbab-d6c9aedb42c4",
   "metadata": {},
   "outputs": [
    {
     "data": {
      "text/plain": [
       "['Unnamed: 0',\n",
       " 'First Photon',\n",
       " 'Last Photon',\n",
       " 'Duration (ms)',\n",
       " 'Mean Macro Time (ms)',\n",
       " 'Number of Photons',\n",
       " 'Count Rate (KHz)',\n",
       " 'First File',\n",
       " 'Last File',\n",
       " 'First Photon (green)',\n",
       " 'Last Photon (green)',\n",
       " 'Duration (green) (ms)',\n",
       " 'Mean Macrotime (green) (ms)',\n",
       " 'Number of Photons (green)',\n",
       " 'Green Count Rate (KHz)',\n",
       " 'S prompt green (kHz) | 0-4095',\n",
       " 'First Photon (red)',\n",
       " 'Last Photon (red)',\n",
       " 'Duration (red) (ms)',\n",
       " 'Mean Macrotime (red) (ms)',\n",
       " 'Number of Photons (red)',\n",
       " 'Red Count Rate (KHz)',\n",
       " 'S prompt red (kHz) | 0-4095',\n",
       " 'First Photon (yellow)',\n",
       " 'Last Photon (yellow)',\n",
       " 'Duration (yellow) (ms)',\n",
       " 'Mean Macrotime (yellow) (ms)',\n",
       " 'Number of Photons (yellow)',\n",
       " 'Yellow Count Rate (KHz)',\n",
       " 'S prompt yellow (kHz) | 0-4095',\n",
       " 'S delayed green (kHz) | 2048-4095',\n",
       " 'S delayed red (kHz) | 2048-4095',\n",
       " 'S delayed yellow (kHz) | 2048-4095',\n",
       " 'Ng-p-all',\n",
       " 'Ng-s-all',\n",
       " 'Number of Photons (fit window) (green)',\n",
       " '2I*  (green)',\n",
       " 'Tau (green)',\n",
       " 'gamma (green)',\n",
       " 'r0 (green)',\n",
       " 'rho (green)',\n",
       " 'BIFL scatter? (green)',\n",
       " '2I*: P+2S? (green)',\n",
       " 'r Scatter (green)',\n",
       " 'r Experimental (green)',\n",
       " 'Mean microtime (green)']"
      ]
     },
     "execution_count": 17,
     "metadata": {},
     "output_type": "execute_result"
    }
   ],
   "source": [
    "df = pd.read_csv(burst_file, sep='\\t')\n",
    "list(df.columns.values)"
   ]
  },
  {
   "cell_type": "code",
   "execution_count": 18,
   "id": "d0681522-50d4-4119-a609-1ca9f32685dd",
   "metadata": {},
   "outputs": [],
   "source": [
    "# Define the proximity ratio computation based on columns in your data\n",
    "# For example, here I assume the proximity ratio is calculated as:\n",
    "# proximity_ratio = Number of Photons (green) / (Number of Photons (green) + Number of Photons (red))\n",
    "\n",
    "df['proximity_ratio'] = df['Number of Photons (green)'] / (\n",
    "    df['Number of Photons (green)'] + df['Number of Photons (red)']\n",
    ")\n",
    "\n",
    "# Select rows where proximity ratio is between 0.3 and 0.55 for low FRET population\n",
    "subset_df = df[(df['proximity_ratio'] >= 0.30) & (df['proximity_ratio'] <= 0.55)]\n",
    "\n",
    "# Select rows where proximity ratio is between 0.75 and 1.0 for high FRET population\n",
    "#subset_df = df[(df['proximity_ratio'] >= 0.75) & (df['proximity_ratio'] <= 1.0)]"
   ]
  },
  {
   "cell_type": "code",
   "execution_count": 19,
   "id": "1f0afc0b-b059-446d-bf2e-3f9b4d528ce1",
   "metadata": {},
   "outputs": [
    {
     "data": {
      "image/png": "[encoded data removed]",
      "text/plain": [
       "<Figure size 640x480 with 1 Axes>"
      ]
     },
     "metadata": {},
     "output_type": "display_data"
    }
   ],
   "source": [
    "tttrs = dict()\n",
    "# Iterate over each row in the filtered subset\n",
    "hists = list()\n",
    "for _, row in subset_df.iterrows():\n",
    "    file_name = row['First File']  # Assuming 'First File' has the file paths\n",
    "    first_photon = row['First Photon']\n",
    "    last_photon = row['Last Photon']\n",
    "    filename = pathlib.Path(file_name).name\n",
    "    fn = pathlib.Path(data_path) / filename\n",
    "    try:\n",
    "        tttr_data = tttrs[filename]\n",
    "    except KeyError:\n",
    "        d = tttrlib.TTTR(fn.as_posix(), file_type)\n",
    "        rout = d.routing_channels\n",
    "        idx = np.where(np.isin(rout, channels))[0]\n",
    "        tttr_data = d[idx]\n",
    "        tttrs[filename] = tttr_data\n",
    "        \n",
    "    # Generate a microtime histogram for the selected channel photons\n",
    "    microtime_hist, bin_edges = tttr_data[first_photon:last_photon].get_microtime_histogram(binning)\n",
    "    hists.append(microtime_hist)\n",
    "\n",
    "hist = np.sum(hists, axis=0)\n",
    "bin_edges *= 1e9  # To convert time axis into nanoseconds\n",
    "\n",
    "plt.semilogy(bin_edges, hist)\n",
    "\n",
    "np.savetxt(output_fn,  np.vstack([bin_edges, hist]).T)"
   ]
  },
  {
   "cell_type": "code",
   "execution_count": null,
   "id": "b842864a-5abd-40d4-b312-e25cd213dba3",
   "metadata": {},
   "outputs": [],
   "source": []
  }
 ],
 "metadata": {
  "kernelspec": {
   "display_name": "Python 3 (ipykernel)",
   "language": "python",
   "name": "python3"
  },
  "language_info": {
   "codemirror_mode": {
    "name": "ipython",
    "version": 3
   },
   "file_extension": ".py",
   "mimetype": "text/x-python",
   "name": "python",
   "nbconvert_exporter": "python",
   "pygments_lexer": "ipython3",
   "version": "3.9.15"
  }
 },
 "nbformat": 4,
 "nbformat_minor": 5
}
