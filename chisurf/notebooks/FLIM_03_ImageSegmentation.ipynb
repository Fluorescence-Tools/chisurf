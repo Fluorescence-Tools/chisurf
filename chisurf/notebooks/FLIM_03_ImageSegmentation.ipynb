{
 "cells": [
  {
   "cell_type": "markdown",
   "id": "960ab0c6-3e6e-4092-bbc4-14cce0a8b6c0",
   "metadata": {},
   "source": [
    "# Intensity-based segmentation of the eGFP/mCherry selected MEF cell\n",
    "\n",
    "Here, we use the generated intensity image and use standard image segmentation techniques like Median or Gaussian filtering, Li- or Otsu-based thresholding to separate the three regions of interest: cytoplasm, vesicles and nucleus.\n",
    "At the end these segmentations represent binary masks, which are filled with \"1/TRUE\" in the region of interest and \"0/FALSE\" outside."
   ]
  },
  {
   "cell_type": "code",
   "execution_count": 1,
   "id": "f403d7eb-368c-4b9c-869a-ac55d1d91ca2",
   "metadata": {},
   "outputs": [],
   "source": [
    "# Importing of all required functions from scikit-image\n",
    "from skimage.filters import threshold_otsu, median, gaussian, threshold_li\n",
    "from skimage import io, img_as_ubyte\n",
    "from skimage.morphology import disk, area_closing, remove_small_objects, dilation\n",
    "from skimage.util import invert\n",
    "from scipy.ndimage import binary_fill_holes\n",
    "import matplotlib.pyplot as plt\n",
    "import numpy as np\n",
    "\n",
    "# Note: The segmentation is performed on the sum of all channels (green/red) and time windows (prompt/delay)"
   ]
  },
  {
   "cell_type": "markdown",
   "id": "8ea51c51-80c5-4d37-a0f7-e40079de8614",
   "metadata": {},
   "source": [
    "## Select cell area\n",
    "\n",
    "We start with the segmentation of the cell in the center of the image. Here, first a median filtering with a disk size of 3 pixel is applied. This is followed by thresholding using the method of Otsu. However, for later frames direct usage of the Otsu threshold selected too much of background, thus we slightly increase the threshold by multiplying with 1.03 (Otsu_scaling_factor) In the final steps, first small holes inside the cytoplasm area are closed, followed by the removal of small detected areas outside the main cell. Here, a minimal size threshold of 10’000 pixel is applied."
   ]
  },
  {
   "cell_type": "code",
   "execution_count": 2,
   "id": "86253721-a1bf-476b-b5fc-d5e3f4afdb97",
   "metadata": {},
   "outputs": [
    {
     "name": "stderr",
     "output_type": "stream",
     "text": [
      "/opt/tljh/user/lib/python3.9/site-packages/skimage/util/dtype.py:550: UserWarning: Downcasting uint16 to uint8 without scaling because max value 63 fits in uint8\n",
      "  return _convert(image, np.uint8, force_copy)\n"
     ]
    }
   ],
   "source": [
    "# Load the intensity sum data\n",
    "filename = \"./FLIM/mGBP_DA.ht3_sum.tif\"\n",
    "img = img_as_ubyte(io.imread(filename))"
   ]
  },
  {
   "cell_type": "code",
   "execution_count": 3,
   "id": "ef03ca95-0296-47c6-be43-8dda948b8e52",
   "metadata": {},
   "outputs": [],
   "source": [
    "# Segmentation parameter\n",
    "disk_size = 3  # smoothing radius in pixel\n",
    "minimal_size = 10000  # give minimal cytoplasm size in pixel\n",
    "scaling_factor = 1.03  # increase Otsu threshold by multiplication with this factor"
   ]
  },
  {
   "cell_type": "code",
   "execution_count": 4,
   "id": "832592dd-0d40-4578-9124-29bc8ebd0134",
   "metadata": {},
   "outputs": [],
   "source": [
    "# Loop over all frames:\n",
    "# (1) Median filtering with a radius of 3 pixel\n",
    "# (2) Otsu thresholding, here we increase the automatic determined value by a factor of 1.03\n",
    "# (3) Fill holes in the binary mask\n",
    "# (4) Remove detected areas outside the cytoplasm by a size filter\n",
    "\n",
    "binary_img = []\n",
    "for image in range(img.shape[0]):\n",
    "    input_img = img[image,:,:]\n",
    "    median_img = median(input_img, disk(disk_size))\n",
    "    thresh_int = threshold_otsu(median_img)  # Determine Otsu threshold for each frame\n",
    "    binary_temp = median_img >= thresh_int*scaling_factor  # Intensities larger than threshold = TRUE /1\n",
    "    bool_img = binary_fill_holes(binary_temp)\n",
    "    segmentation_filled = np.copy(bool_img.astype(np.uint8))\n",
    "    small_aggregates_removed = area_closing(invert(segmentation_filled), area_threshold=minimal_size)\n",
    "    final_segmentation = invert(small_aggregates_removed)\n",
    "    binary_img.append(final_segmentation)"
   ]
  },
  {
   "cell_type": "code",
   "execution_count": 5,
   "id": "f32af5b9-2c43-425c-8005-0ca28010365d",
   "metadata": {},
   "outputs": [],
   "source": [
    "# Save processed image tif series of frames\n",
    "# return image is an 8-bit image filled with 0's and 1's\n",
    "cell_mask = (np.array(binary_img, dtype=np.ubyte))\n",
    "io.imsave(filename + '_binary_cell.tif', cell_mask, check_contrast=False)"
   ]
  },
  {
   "cell_type": "markdown",
   "id": "41a10095-60dc-4f1c-9d60-1db2e7eee673",
   "metadata": {},
   "source": [
    "## Nucleus\n",
    "\n",
    "Next, the nucleus is segmented. In contrast to the cytoplasm, here only the green intensity image is used as input as here the contrast between cytoplasm/vesicles region and nucleus seemed largest. Please note that the nucleus can be best seen as “region in cytoplasm but without vesicles”. The segmentation of the nucleus thus proves to be a challenge. We first apply a Gaussian smoothing with a radius of 2 sigma, followed by thresholding using the method of Li. The thresholded image is dilated, holes inside the nucleus filled and small areas outside removed. Next all left-overs outside the cytoplasmic (i.e. body of the cell) are removed by multiplying with the generated cytoplasm mask, followed by another round of dilation to make the nucleus “smoother”. Finally, as the nucleus is characterized by being outside the way of the diffusing vesicles, we average the such obtained nucleus and generate an average nucleus by summing over all 400 frames and threshold this projection using the method of Otsu."
   ]
  },
  {
   "cell_type": "code",
   "execution_count": 6,
   "id": "9326fb63-cb28-4ebc-8c91-b04eb039791b",
   "metadata": {},
   "outputs": [],
   "source": [
    "# Define the parameter\n",
    "# Here we only use the green channel for segmentation\n",
    "input_nuc = io.imread(\"./FLIM/mGBP_DA.ht3_green.tif\")\n",
    "sigma = 2  # radius for Gaussian filtering\n",
    "smoothing_radius = 2  # for dilation operation\n",
    "minimal_size_nuc = 1000  # minimal area size (smaller areas will be removed)\n",
    "minimal_nucleus_size = 2000 # minimal nucleus size"
   ]
  },
  {
   "cell_type": "code",
   "execution_count": 7,
   "id": "30f95b8d-e6c6-40d6-8bcb-6b5cab3de72a",
   "metadata": {},
   "outputs": [],
   "source": [
    "# Loop over the image to process each frame\n",
    "# (1) Gaussian smoothing with a radius of 2 pixel\n",
    "# (2) Li thresholding\n",
    "# (3) Dilation of binary mask with smoothing radius of 2 pixel\n",
    "# (4) Fill small holes\n",
    "# (5) Remove small areas outside the nucleus\n",
    "# (6) Combine with cytoplasm by multiplication of binary images\n",
    "# (7) Remove smaller areas at the cytoplasm border\n",
    "# (8) Dilate nucleus to make more \"smooth\"\n",
    "\n",
    "binary_img_nucleus = []\n",
    "for image in range(input_nuc.shape[0]):\n",
    "    input_img = input_nuc[image,:,:]\n",
    "    input_img_cytoplasm = cell_mask[image,:,:]\n",
    "    gaussian_img = gaussian(input_img, sigma=sigma)\n",
    "    li_threshold = threshold_li(gaussian_img)\n",
    "    thresholded_image = gaussian_img > li_threshold\n",
    "    dilated_segmentation = dilation(thresholded_image, disk(smoothing_radius))\n",
    "    bool_img = binary_fill_holes(dilated_segmentation)\n",
    "    segmentation_filled = np.copy(bool_img.astype(np.uint8))\n",
    "    small_areas_removed = area_closing(invert(segmentation_filled), area_threshold=minimal_size_nuc)\n",
    "    combination = np.zeros(small_areas_removed.shape, dtype=np.uint)\n",
    "    combination = input_img_cytoplasm * (small_areas_removed - 254)\n",
    "    cleaned_combination = area_closing(invert(combination), area_threshold=minimal_size_nuc)\n",
    "    dilated_combination = dilation(invert(cleaned_combination), disk(smoothing_radius))\n",
    "    binary_img_nucleus.append(dilated_combination)"
   ]
  },
  {
   "cell_type": "code",
   "execution_count": 8,
   "id": "e0f48396-46ee-48ec-8a5d-3daff6f3598e",
   "metadata": {},
   "outputs": [],
   "source": [
    "# Save individual frames with detected \"nucleus\"\n",
    "io.imsave(filename + '_binary_nucleus.tif', np.array(binary_img_nucleus, dtype=np.ubyte), check_contrast=False)\n",
    "\n",
    "# Average over all frames to get a smoother nucleus\n",
    "averaged_img = np.array(np.sum(binary_img_nucleus, axis=0), dtype=int)\n",
    "thresh = threshold_otsu(averaged_img) # Apply Otsu thresholding\n",
    "thresholded_img = averaged_img > thresh\n",
    "# Remove smaller stuff\n",
    "avg_nucleus = remove_small_objects(thresholded_img, min_size=minimal_nucleus_size)\n",
    "# Save average nucleus\n",
    "io.imsave(filename + '_avg_nucleus.tif', np.array(avg_nucleus, dtype=np.ubyte), check_contrast=False)"
   ]
  },
  {
   "cell_type": "markdown",
   "id": "b23496ec-5a0f-4ca8-8f37-ff5b2134c788",
   "metadata": {},
   "source": [
    "## Vesicle-like structures (VLS)\n",
    "\n",
    "The vesicle-like structures (VLS) are very bright regions in the cells. Here, first a Gaussian smoothing with a size of 1 sigma is applied, followed by thresholding using the method of Otsu. Finally, objects with a size smaller than 5 pixels are removed.\n",
    "Furthermore, we remove all VLS from our ROI which belong to a neighboring cell or seem to be inside the nucleus (above or below)."
   ]
  },
  {
   "cell_type": "code",
   "execution_count": 9,
   "id": "c6150ed0-6365-4d94-8d16-bff1e9ba3016",
   "metadata": {},
   "outputs": [],
   "source": [
    "# set the parameter\n",
    "sigma_VLS = 1  # radius for Gaussian filtering\n",
    "min_vesicle_size = 5  # give minimal vesicle size in pixel"
   ]
  },
  {
   "cell_type": "code",
   "execution_count": 16,
   "id": "3c9bb69a-aac4-40ad-983f-4de9d2abbd37",
   "metadata": {},
   "outputs": [],
   "source": [
    "# Loop over all frames\n",
    "# (1) Gaussian smoothing with a radius of 1 pixel\n",
    "# (2) Otsu thresholding\n",
    "# (3) Remove spots smaller than 5 pixel\n",
    "\n",
    "binary_img_VLS = []\n",
    "for image in range(img.shape[0]):\n",
    "    input_img = img[image,:,:]\n",
    "    gaussian_img = gaussian(input_img, sigma=sigma_VLS)\n",
    "    thresh_int = threshold_otsu(gaussian_img)  # Determine Otsu threshold for each frame\n",
    "    binary_temp = gaussian_img >= thresh_int  # Intensities larger than threshold = TRUE /1\n",
    "    cleaned_image = remove_small_objects(binary_temp, min_vesicle_size) # Remove small\n",
    "    binary_img_VLS.append(cleaned_image)\n",
    "\n",
    "# Save processed image tif series of frames\n",
    "VLS_mask = (np.array(binary_img_VLS, dtype=np.ubyte))\n",
    "\n",
    "# Limit vesicles to area of the selected cell and outside the nucleus\n",
    "VLS_in_cell = VLS_mask * cell_mask\n",
    "# Expand the nucleus_mask to match the shape of the other masks\n",
    "nucleus_mask_expanded = np.repeat(avg_nucleus[np.newaxis, :, :], cell_mask.shape[0], axis=0)\n",
    "\n",
    "# Remove vesicles from the nucleus in each frame\n",
    "VLS_in_cytoplasm = VLS_in_cell & ~nucleus_mask_expanded \n",
    "                     \n",
    "io.imsave(filename + '_binary_vesicles.tif', VLS_in_cytoplasm, check_contrast=False)"
   ]
  },
  {
   "cell_type": "markdown",
   "id": "88895680-d297-4a4b-9e8e-4c3388d4bf64",
   "metadata": {},
   "source": [
    "## Final Clean-up: Remove VLS and nucleus from cell mask \n",
    "\n",
    "To obtain a clean image of the cytoplasm, devoid of VLS and out the nucleus, we set all pixels which are \"TRUE\" in either nucleus or VLS to \"FALSE\" in the cell mask."
   ]
  },
  {
   "cell_type": "code",
   "execution_count": 17,
   "id": "c932e8bb-930b-4da1-b801-2bee6959c933",
   "metadata": {},
   "outputs": [],
   "source": [
    "# Create the cytoplasm mask by removing the nucleus and vesicles from the total cell\n",
    "cytoplasm_mask = cell_mask & ~nucleus_mask_expanded & ~VLS_in_cytoplasm\n",
    "\n",
    "# save result\n",
    "io.imsave(filename + '_wo nucleus_vesicles.tif', cytoplasm_mask, check_contrast=False)"
   ]
  },
  {
   "cell_type": "markdown",
   "id": "e631eb42-ded5-45b1-a8a8-23365491611c",
   "metadata": {},
   "source": [
    "## Display masks for 1st frame"
   ]
  },
  {
   "cell_type": "code",
   "execution_count": 2,
   "id": "796f6ee8-525c-4ece-b8d3-70ccec74e92e",
   "metadata": {},
   "outputs": [
    {
     "ename": "NameError",
     "evalue": "name 'plt' is not defined",
     "output_type": "error",
     "traceback": [
      "\u001b[0;31m---------------------------------------------------------------------------\u001b[0m",
      "\u001b[0;31mNameError\u001b[0m                                 Traceback (most recent call last)",
      "Cell \u001b[0;32mIn[2], line 1\u001b[0m\n\u001b[0;32m----> 1\u001b[0m \u001b[43mplt\u001b[49m\u001b[38;5;241m.\u001b[39mfigure(figsize\u001b[38;5;241m=\u001b[39m(\u001b[38;5;241m12\u001b[39m,\u001b[38;5;241m12\u001b[39m))\n\u001b[1;32m      2\u001b[0m plt\u001b[38;5;241m.\u001b[39msubplot(\u001b[38;5;241m141\u001b[39m)\n\u001b[1;32m      3\u001b[0m plt\u001b[38;5;241m.\u001b[39mimshow(img[\u001b[38;5;241m0\u001b[39m], cmap\u001b[38;5;241m=\u001b[39m\u001b[38;5;124m\"\u001b[39m\u001b[38;5;124minferno\u001b[39m\u001b[38;5;124m\"\u001b[39m)\n",
      "\u001b[0;31mNameError\u001b[0m: name 'plt' is not defined"
     ]
    }
   ],
   "source": [
    "plt.figure(figsize=(12,12))\n",
    "plt.subplot(141)\n",
    "plt.imshow(img[0], cmap=\"inferno\")\n",
    "plt.title(\"Original Image\")\n",
    "plt.subplot(142)\n",
    "plt.imshow(cytoplasm_mask[0])\n",
    "plt.title(\"Cytoplasm\")\n",
    "plt.subplot(143)\n",
    "plt.imshow(avg_nucleus)\n",
    "plt.title(\"Average nucleus\")\n",
    "plt.subplot(144)\n",
    "plt.imshow(VLS_in_cytoplasm[0])\n",
    "plt.title(\"Vesicle-like structures\")\n",
    "plt.tight_layout()"
   ]
  }
 ],
 "metadata": {
  "kernelspec": {
   "display_name": "Python 3 (ipykernel)",
   "language": "python",
   "name": "python3"
  },
  "language_info": {
   "codemirror_mode": {
    "name": "ipython",
    "version": 3
   },
   "file_extension": ".py",
   "mimetype": "text/x-python",
   "name": "python",
   "nbconvert_exporter": "python",
   "pygments_lexer": "ipython3",
   "version": "3.9.15"
  }
 },
 "nbformat": 4,
 "nbformat_minor": 5
}
